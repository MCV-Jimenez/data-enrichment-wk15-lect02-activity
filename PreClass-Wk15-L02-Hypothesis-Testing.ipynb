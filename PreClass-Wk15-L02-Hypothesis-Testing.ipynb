{
 "cells": [
  {
   "cell_type": "markdown",
   "id": "d699350b",
   "metadata": {},
   "source": [
    "# Week 15, Lecture 02 CodeAlong: Hypothesis Testing"
   ]
  },
  {
   "cell_type": "markdown",
   "id": "028cec6c",
   "metadata": {},
   "source": [
    "- xx/xx/xx"
   ]
  },
  {
   "cell_type": "markdown",
   "id": "f13e63e9",
   "metadata": {},
   "source": [
    "Today, we will be analyzing data from the Crowdfunding website Kiva and answering several questions about the data.\n",
    "\n",
    "- Use your hypothesis testing skills and the  [\"Guide: Choosing the Right Hypothesis Test\"](https://login.codingdojo.com/m/376/12533/88117) lesson from the LP.\n",
    "    \n",
    "\n",
    "- Kiva Crowdfunding Data Set:\n",
    "    -  https://www.kaggle.com/datasets/kiva/data-science-for-good-kiva-crowdfunding \n",
    "\n"
   ]
  },
  {
   "cell_type": "markdown",
   "id": "d22c6aa9",
   "metadata": {},
   "source": [
    "### Questions to Answer"
   ]
  },
  {
   "cell_type": "markdown",
   "id": "e1613f1a",
   "metadata": {},
   "source": [
    "- Q1: Do all-male teams get more funding vs teams that include at least 1 female?\n",
    "- Q2: Do different sectors get more/less funding?"
   ]
  },
  {
   "cell_type": "markdown",
   "id": "118ab3ca",
   "metadata": {},
   "source": [
    "# Hypothesis Testing"
   ]
  },
  {
   "cell_type": "code",
   "execution_count": 43,
   "id": "892936f6",
   "metadata": {},
   "outputs": [
    {
     "data": {
      "text/plain": [
       "'1.7.3'"
      ]
     },
     "execution_count": 43,
     "metadata": {},
     "output_type": "execute_result"
    }
   ],
   "source": [
    "import json\n",
    "import pandas as pd\n",
    "import numpy as np\n",
    "\n",
    "import matplotlib.pyplot as plt\n",
    "import seaborn as sns\n",
    "\n",
    "from scipy import stats\n",
    "import scipy\n",
    "scipy.__version__"
   ]
  },
  {
   "cell_type": "code",
   "execution_count": 44,
   "id": "20ff0592",
   "metadata": {},
   "outputs": [
    {
     "name": "stdout",
     "output_type": "stream",
     "text": [
      "<class 'pandas.core.frame.DataFrame'>\n",
      "RangeIndex: 666984 entries, 0 to 666983\n",
      "Data columns (total 20 columns):\n",
      " #   Column              Non-Null Count   Dtype  \n",
      "---  ------              --------------   -----  \n",
      " 0   id                  666984 non-null  int64  \n",
      " 1   funded_amount       666984 non-null  float64\n",
      " 2   loan_amount         666984 non-null  float64\n",
      " 3   activity            666984 non-null  object \n",
      " 4   sector              666984 non-null  object \n",
      " 5   use                 666973 non-null  object \n",
      " 6   country_code        666976 non-null  object \n",
      " 7   country             666984 non-null  object \n",
      " 8   region              614405 non-null  object \n",
      " 9   currency            666984 non-null  object \n",
      " 10  partner_id          653896 non-null  float64\n",
      " 11  posted_time         666984 non-null  object \n",
      " 12  disbursed_time      665003 non-null  object \n",
      " 13  funded_time         619335 non-null  object \n",
      " 14  term_in_months      666984 non-null  float64\n",
      " 15  lender_count        666984 non-null  int64  \n",
      " 16  tags                496877 non-null  object \n",
      " 17  borrower_genders    666984 non-null  object \n",
      " 18  repayment_interval  666984 non-null  object \n",
      " 19  date                666984 non-null  object \n",
      "dtypes: float64(4), int64(2), object(14)\n",
      "memory usage: 101.8+ MB\n"
     ]
    },
    {
     "data": {
      "text/html": [
       "<div>\n",
       "<style scoped>\n",
       "    .dataframe tbody tr th:only-of-type {\n",
       "        vertical-align: middle;\n",
       "    }\n",
       "\n",
       "    .dataframe tbody tr th {\n",
       "        vertical-align: top;\n",
       "    }\n",
       "\n",
       "    .dataframe thead th {\n",
       "        text-align: right;\n",
       "    }\n",
       "</style>\n",
       "<table border=\"1\" class=\"dataframe\">\n",
       "  <thead>\n",
       "    <tr style=\"text-align: right;\">\n",
       "      <th></th>\n",
       "      <th>id</th>\n",
       "      <th>funded_amount</th>\n",
       "      <th>loan_amount</th>\n",
       "      <th>activity</th>\n",
       "      <th>sector</th>\n",
       "      <th>use</th>\n",
       "      <th>country_code</th>\n",
       "      <th>country</th>\n",
       "      <th>region</th>\n",
       "      <th>currency</th>\n",
       "      <th>partner_id</th>\n",
       "      <th>posted_time</th>\n",
       "      <th>disbursed_time</th>\n",
       "      <th>funded_time</th>\n",
       "      <th>term_in_months</th>\n",
       "      <th>lender_count</th>\n",
       "      <th>tags</th>\n",
       "      <th>borrower_genders</th>\n",
       "      <th>repayment_interval</th>\n",
       "      <th>date</th>\n",
       "    </tr>\n",
       "  </thead>\n",
       "  <tbody>\n",
       "    <tr>\n",
       "      <th>0</th>\n",
       "      <td>653051</td>\n",
       "      <td>300.0</td>\n",
       "      <td>300.0</td>\n",
       "      <td>Fruits &amp; Vegetables</td>\n",
       "      <td>Food</td>\n",
       "      <td>To buy seasonal, fresh fruits to sell.</td>\n",
       "      <td>PK</td>\n",
       "      <td>Pakistan</td>\n",
       "      <td>Lahore</td>\n",
       "      <td>PKR</td>\n",
       "      <td>247.0</td>\n",
       "      <td>2014-01-01 06:12:39+00:00</td>\n",
       "      <td>2013-12-17 08:00:00+00:00</td>\n",
       "      <td>2014-01-02 10:06:32+00:00</td>\n",
       "      <td>12.0</td>\n",
       "      <td>12</td>\n",
       "      <td>NaN</td>\n",
       "      <td>female</td>\n",
       "      <td>irregular</td>\n",
       "      <td>2014-01-01</td>\n",
       "    </tr>\n",
       "    <tr>\n",
       "      <th>1</th>\n",
       "      <td>653053</td>\n",
       "      <td>575.0</td>\n",
       "      <td>575.0</td>\n",
       "      <td>Rickshaw</td>\n",
       "      <td>Transportation</td>\n",
       "      <td>to repair and maintain the auto rickshaw used ...</td>\n",
       "      <td>PK</td>\n",
       "      <td>Pakistan</td>\n",
       "      <td>Lahore</td>\n",
       "      <td>PKR</td>\n",
       "      <td>247.0</td>\n",
       "      <td>2014-01-01 06:51:08+00:00</td>\n",
       "      <td>2013-12-17 08:00:00+00:00</td>\n",
       "      <td>2014-01-02 09:17:23+00:00</td>\n",
       "      <td>11.0</td>\n",
       "      <td>14</td>\n",
       "      <td>NaN</td>\n",
       "      <td>female, female</td>\n",
       "      <td>irregular</td>\n",
       "      <td>2014-01-01</td>\n",
       "    </tr>\n",
       "    <tr>\n",
       "      <th>2</th>\n",
       "      <td>653068</td>\n",
       "      <td>150.0</td>\n",
       "      <td>150.0</td>\n",
       "      <td>Transportation</td>\n",
       "      <td>Transportation</td>\n",
       "      <td>To repair their old cycle-van and buy another ...</td>\n",
       "      <td>IN</td>\n",
       "      <td>India</td>\n",
       "      <td>Maynaguri</td>\n",
       "      <td>INR</td>\n",
       "      <td>334.0</td>\n",
       "      <td>2014-01-01 09:58:07+00:00</td>\n",
       "      <td>2013-12-17 08:00:00+00:00</td>\n",
       "      <td>2014-01-01 16:01:36+00:00</td>\n",
       "      <td>43.0</td>\n",
       "      <td>6</td>\n",
       "      <td>user_favorite, user_favorite</td>\n",
       "      <td>female</td>\n",
       "      <td>bullet</td>\n",
       "      <td>2014-01-01</td>\n",
       "    </tr>\n",
       "    <tr>\n",
       "      <th>3</th>\n",
       "      <td>653063</td>\n",
       "      <td>200.0</td>\n",
       "      <td>200.0</td>\n",
       "      <td>Embroidery</td>\n",
       "      <td>Arts</td>\n",
       "      <td>to purchase an embroidery machine and a variet...</td>\n",
       "      <td>PK</td>\n",
       "      <td>Pakistan</td>\n",
       "      <td>Lahore</td>\n",
       "      <td>PKR</td>\n",
       "      <td>247.0</td>\n",
       "      <td>2014-01-01 08:03:11+00:00</td>\n",
       "      <td>2013-12-24 08:00:00+00:00</td>\n",
       "      <td>2014-01-01 13:00:00+00:00</td>\n",
       "      <td>11.0</td>\n",
       "      <td>8</td>\n",
       "      <td>NaN</td>\n",
       "      <td>female</td>\n",
       "      <td>irregular</td>\n",
       "      <td>2014-01-01</td>\n",
       "    </tr>\n",
       "    <tr>\n",
       "      <th>4</th>\n",
       "      <td>653084</td>\n",
       "      <td>400.0</td>\n",
       "      <td>400.0</td>\n",
       "      <td>Milk Sales</td>\n",
       "      <td>Food</td>\n",
       "      <td>to purchase one buffalo.</td>\n",
       "      <td>PK</td>\n",
       "      <td>Pakistan</td>\n",
       "      <td>Abdul Hakeem</td>\n",
       "      <td>PKR</td>\n",
       "      <td>245.0</td>\n",
       "      <td>2014-01-01 11:53:19+00:00</td>\n",
       "      <td>2013-12-17 08:00:00+00:00</td>\n",
       "      <td>2014-01-01 19:18:51+00:00</td>\n",
       "      <td>14.0</td>\n",
       "      <td>16</td>\n",
       "      <td>NaN</td>\n",
       "      <td>female</td>\n",
       "      <td>monthly</td>\n",
       "      <td>2014-01-01</td>\n",
       "    </tr>\n",
       "  </tbody>\n",
       "</table>\n",
       "</div>"
      ],
      "text/plain": [
       "       id  funded_amount  loan_amount             activity          sector  \\\n",
       "0  653051          300.0        300.0  Fruits & Vegetables            Food   \n",
       "1  653053          575.0        575.0             Rickshaw  Transportation   \n",
       "2  653068          150.0        150.0       Transportation  Transportation   \n",
       "3  653063          200.0        200.0           Embroidery            Arts   \n",
       "4  653084          400.0        400.0           Milk Sales            Food   \n",
       "\n",
       "                                                 use country_code   country  \\\n",
       "0            To buy seasonal, fresh fruits to sell.            PK  Pakistan   \n",
       "1  to repair and maintain the auto rickshaw used ...           PK  Pakistan   \n",
       "2  To repair their old cycle-van and buy another ...           IN     India   \n",
       "3  to purchase an embroidery machine and a variet...           PK  Pakistan   \n",
       "4                           to purchase one buffalo.           PK  Pakistan   \n",
       "\n",
       "         region currency  partner_id                posted_time  \\\n",
       "0        Lahore      PKR       247.0  2014-01-01 06:12:39+00:00   \n",
       "1        Lahore      PKR       247.0  2014-01-01 06:51:08+00:00   \n",
       "2     Maynaguri      INR       334.0  2014-01-01 09:58:07+00:00   \n",
       "3        Lahore      PKR       247.0  2014-01-01 08:03:11+00:00   \n",
       "4  Abdul Hakeem      PKR       245.0  2014-01-01 11:53:19+00:00   \n",
       "\n",
       "              disbursed_time                funded_time  term_in_months  \\\n",
       "0  2013-12-17 08:00:00+00:00  2014-01-02 10:06:32+00:00            12.0   \n",
       "1  2013-12-17 08:00:00+00:00  2014-01-02 09:17:23+00:00            11.0   \n",
       "2  2013-12-17 08:00:00+00:00  2014-01-01 16:01:36+00:00            43.0   \n",
       "3  2013-12-24 08:00:00+00:00  2014-01-01 13:00:00+00:00            11.0   \n",
       "4  2013-12-17 08:00:00+00:00  2014-01-01 19:18:51+00:00            14.0   \n",
       "\n",
       "   lender_count                          tags borrower_genders  \\\n",
       "0            12                           NaN           female   \n",
       "1            14                           NaN   female, female   \n",
       "2             6  user_favorite, user_favorite           female   \n",
       "3             8                           NaN           female   \n",
       "4            16                           NaN           female   \n",
       "\n",
       "  repayment_interval        date  \n",
       "0          irregular  2014-01-01  \n",
       "1          irregular  2014-01-01  \n",
       "2             bullet  2014-01-01  \n",
       "3          irregular  2014-01-01  \n",
       "4            monthly  2014-01-01  "
      ]
     },
     "execution_count": 44,
     "metadata": {},
     "output_type": "execute_result"
    }
   ],
   "source": [
    "## load the kiva_loans.csv. display info and head\n",
    "df = pd.read_csv('Data/kiva_loans.csv.gz')\n",
    "df.info()\n",
    "df.head()"
   ]
  },
  {
   "cell_type": "code",
   "execution_count": 45,
   "id": "635b5d1c",
   "metadata": {},
   "outputs": [
    {
     "name": "stdout",
     "output_type": "stream",
     "text": [
      "<class 'pandas.core.frame.DataFrame'>\n",
      "Int64Index: 666984 entries, 653051 to 1340339\n",
      "Data columns (total 19 columns):\n",
      " #   Column              Non-Null Count   Dtype  \n",
      "---  ------              --------------   -----  \n",
      " 0   funded_amount       666984 non-null  float64\n",
      " 1   loan_amount         666984 non-null  float64\n",
      " 2   activity            666984 non-null  object \n",
      " 3   sector              666984 non-null  object \n",
      " 4   use                 666973 non-null  object \n",
      " 5   country_code        666976 non-null  object \n",
      " 6   country             666984 non-null  object \n",
      " 7   region              614405 non-null  object \n",
      " 8   currency            666984 non-null  object \n",
      " 9   partner_id          653896 non-null  float64\n",
      " 10  posted_time         666984 non-null  object \n",
      " 11  disbursed_time      665003 non-null  object \n",
      " 12  funded_time         619335 non-null  object \n",
      " 13  term_in_months      666984 non-null  float64\n",
      " 14  lender_count        666984 non-null  int64  \n",
      " 15  tags                496877 non-null  object \n",
      " 16  borrower_genders    666984 non-null  object \n",
      " 17  repayment_interval  666984 non-null  object \n",
      " 18  date                666984 non-null  object \n",
      "dtypes: float64(4), int64(1), object(14)\n",
      "memory usage: 101.8+ MB\n"
     ]
    },
    {
     "data": {
      "text/html": [
       "<div>\n",
       "<style scoped>\n",
       "    .dataframe tbody tr th:only-of-type {\n",
       "        vertical-align: middle;\n",
       "    }\n",
       "\n",
       "    .dataframe tbody tr th {\n",
       "        vertical-align: top;\n",
       "    }\n",
       "\n",
       "    .dataframe thead th {\n",
       "        text-align: right;\n",
       "    }\n",
       "</style>\n",
       "<table border=\"1\" class=\"dataframe\">\n",
       "  <thead>\n",
       "    <tr style=\"text-align: right;\">\n",
       "      <th></th>\n",
       "      <th>funded_amount</th>\n",
       "      <th>loan_amount</th>\n",
       "      <th>activity</th>\n",
       "      <th>sector</th>\n",
       "      <th>use</th>\n",
       "      <th>country_code</th>\n",
       "      <th>country</th>\n",
       "      <th>region</th>\n",
       "      <th>currency</th>\n",
       "      <th>partner_id</th>\n",
       "      <th>posted_time</th>\n",
       "      <th>disbursed_time</th>\n",
       "      <th>funded_time</th>\n",
       "      <th>term_in_months</th>\n",
       "      <th>lender_count</th>\n",
       "      <th>tags</th>\n",
       "      <th>borrower_genders</th>\n",
       "      <th>repayment_interval</th>\n",
       "      <th>date</th>\n",
       "    </tr>\n",
       "    <tr>\n",
       "      <th>id</th>\n",
       "      <th></th>\n",
       "      <th></th>\n",
       "      <th></th>\n",
       "      <th></th>\n",
       "      <th></th>\n",
       "      <th></th>\n",
       "      <th></th>\n",
       "      <th></th>\n",
       "      <th></th>\n",
       "      <th></th>\n",
       "      <th></th>\n",
       "      <th></th>\n",
       "      <th></th>\n",
       "      <th></th>\n",
       "      <th></th>\n",
       "      <th></th>\n",
       "      <th></th>\n",
       "      <th></th>\n",
       "      <th></th>\n",
       "    </tr>\n",
       "  </thead>\n",
       "  <tbody>\n",
       "    <tr>\n",
       "      <th>653051</th>\n",
       "      <td>300.0</td>\n",
       "      <td>300.0</td>\n",
       "      <td>Fruits &amp; Vegetables</td>\n",
       "      <td>Food</td>\n",
       "      <td>To buy seasonal, fresh fruits to sell.</td>\n",
       "      <td>PK</td>\n",
       "      <td>Pakistan</td>\n",
       "      <td>Lahore</td>\n",
       "      <td>PKR</td>\n",
       "      <td>247.0</td>\n",
       "      <td>2014-01-01 06:12:39+00:00</td>\n",
       "      <td>2013-12-17 08:00:00+00:00</td>\n",
       "      <td>2014-01-02 10:06:32+00:00</td>\n",
       "      <td>12.0</td>\n",
       "      <td>12</td>\n",
       "      <td>NaN</td>\n",
       "      <td>female</td>\n",
       "      <td>irregular</td>\n",
       "      <td>2014-01-01</td>\n",
       "    </tr>\n",
       "    <tr>\n",
       "      <th>653053</th>\n",
       "      <td>575.0</td>\n",
       "      <td>575.0</td>\n",
       "      <td>Rickshaw</td>\n",
       "      <td>Transportation</td>\n",
       "      <td>to repair and maintain the auto rickshaw used ...</td>\n",
       "      <td>PK</td>\n",
       "      <td>Pakistan</td>\n",
       "      <td>Lahore</td>\n",
       "      <td>PKR</td>\n",
       "      <td>247.0</td>\n",
       "      <td>2014-01-01 06:51:08+00:00</td>\n",
       "      <td>2013-12-17 08:00:00+00:00</td>\n",
       "      <td>2014-01-02 09:17:23+00:00</td>\n",
       "      <td>11.0</td>\n",
       "      <td>14</td>\n",
       "      <td>NaN</td>\n",
       "      <td>female, female</td>\n",
       "      <td>irregular</td>\n",
       "      <td>2014-01-01</td>\n",
       "    </tr>\n",
       "    <tr>\n",
       "      <th>653068</th>\n",
       "      <td>150.0</td>\n",
       "      <td>150.0</td>\n",
       "      <td>Transportation</td>\n",
       "      <td>Transportation</td>\n",
       "      <td>To repair their old cycle-van and buy another ...</td>\n",
       "      <td>IN</td>\n",
       "      <td>India</td>\n",
       "      <td>Maynaguri</td>\n",
       "      <td>INR</td>\n",
       "      <td>334.0</td>\n",
       "      <td>2014-01-01 09:58:07+00:00</td>\n",
       "      <td>2013-12-17 08:00:00+00:00</td>\n",
       "      <td>2014-01-01 16:01:36+00:00</td>\n",
       "      <td>43.0</td>\n",
       "      <td>6</td>\n",
       "      <td>user_favorite, user_favorite</td>\n",
       "      <td>female</td>\n",
       "      <td>bullet</td>\n",
       "      <td>2014-01-01</td>\n",
       "    </tr>\n",
       "    <tr>\n",
       "      <th>653063</th>\n",
       "      <td>200.0</td>\n",
       "      <td>200.0</td>\n",
       "      <td>Embroidery</td>\n",
       "      <td>Arts</td>\n",
       "      <td>to purchase an embroidery machine and a variet...</td>\n",
       "      <td>PK</td>\n",
       "      <td>Pakistan</td>\n",
       "      <td>Lahore</td>\n",
       "      <td>PKR</td>\n",
       "      <td>247.0</td>\n",
       "      <td>2014-01-01 08:03:11+00:00</td>\n",
       "      <td>2013-12-24 08:00:00+00:00</td>\n",
       "      <td>2014-01-01 13:00:00+00:00</td>\n",
       "      <td>11.0</td>\n",
       "      <td>8</td>\n",
       "      <td>NaN</td>\n",
       "      <td>female</td>\n",
       "      <td>irregular</td>\n",
       "      <td>2014-01-01</td>\n",
       "    </tr>\n",
       "    <tr>\n",
       "      <th>653084</th>\n",
       "      <td>400.0</td>\n",
       "      <td>400.0</td>\n",
       "      <td>Milk Sales</td>\n",
       "      <td>Food</td>\n",
       "      <td>to purchase one buffalo.</td>\n",
       "      <td>PK</td>\n",
       "      <td>Pakistan</td>\n",
       "      <td>Abdul Hakeem</td>\n",
       "      <td>PKR</td>\n",
       "      <td>245.0</td>\n",
       "      <td>2014-01-01 11:53:19+00:00</td>\n",
       "      <td>2013-12-17 08:00:00+00:00</td>\n",
       "      <td>2014-01-01 19:18:51+00:00</td>\n",
       "      <td>14.0</td>\n",
       "      <td>16</td>\n",
       "      <td>NaN</td>\n",
       "      <td>female</td>\n",
       "      <td>monthly</td>\n",
       "      <td>2014-01-01</td>\n",
       "    </tr>\n",
       "  </tbody>\n",
       "</table>\n",
       "</div>"
      ],
      "text/plain": [
       "        funded_amount  loan_amount             activity          sector  \\\n",
       "id                                                                        \n",
       "653051          300.0        300.0  Fruits & Vegetables            Food   \n",
       "653053          575.0        575.0             Rickshaw  Transportation   \n",
       "653068          150.0        150.0       Transportation  Transportation   \n",
       "653063          200.0        200.0           Embroidery            Arts   \n",
       "653084          400.0        400.0           Milk Sales            Food   \n",
       "\n",
       "                                                      use country_code  \\\n",
       "id                                                                       \n",
       "653051            To buy seasonal, fresh fruits to sell.            PK   \n",
       "653053  to repair and maintain the auto rickshaw used ...           PK   \n",
       "653068  To repair their old cycle-van and buy another ...           IN   \n",
       "653063  to purchase an embroidery machine and a variet...           PK   \n",
       "653084                           to purchase one buffalo.           PK   \n",
       "\n",
       "         country        region currency  partner_id  \\\n",
       "id                                                    \n",
       "653051  Pakistan        Lahore      PKR       247.0   \n",
       "653053  Pakistan        Lahore      PKR       247.0   \n",
       "653068     India     Maynaguri      INR       334.0   \n",
       "653063  Pakistan        Lahore      PKR       247.0   \n",
       "653084  Pakistan  Abdul Hakeem      PKR       245.0   \n",
       "\n",
       "                      posted_time             disbursed_time  \\\n",
       "id                                                             \n",
       "653051  2014-01-01 06:12:39+00:00  2013-12-17 08:00:00+00:00   \n",
       "653053  2014-01-01 06:51:08+00:00  2013-12-17 08:00:00+00:00   \n",
       "653068  2014-01-01 09:58:07+00:00  2013-12-17 08:00:00+00:00   \n",
       "653063  2014-01-01 08:03:11+00:00  2013-12-24 08:00:00+00:00   \n",
       "653084  2014-01-01 11:53:19+00:00  2013-12-17 08:00:00+00:00   \n",
       "\n",
       "                      funded_time  term_in_months  lender_count  \\\n",
       "id                                                                \n",
       "653051  2014-01-02 10:06:32+00:00            12.0            12   \n",
       "653053  2014-01-02 09:17:23+00:00            11.0            14   \n",
       "653068  2014-01-01 16:01:36+00:00            43.0             6   \n",
       "653063  2014-01-01 13:00:00+00:00            11.0             8   \n",
       "653084  2014-01-01 19:18:51+00:00            14.0            16   \n",
       "\n",
       "                                tags borrower_genders repayment_interval  \\\n",
       "id                                                                         \n",
       "653051                           NaN           female          irregular   \n",
       "653053                           NaN   female, female          irregular   \n",
       "653068  user_favorite, user_favorite           female             bullet   \n",
       "653063                           NaN           female          irregular   \n",
       "653084                           NaN           female            monthly   \n",
       "\n",
       "              date  \n",
       "id                  \n",
       "653051  2014-01-01  \n",
       "653053  2014-01-01  \n",
       "653068  2014-01-01  \n",
       "653063  2014-01-01  \n",
       "653084  2014-01-01  "
      ]
     },
     "execution_count": 45,
     "metadata": {},
     "output_type": "execute_result"
    }
   ],
   "source": [
    "## Drop null values from related columns\n",
    "df = df.dropna(subset=['borrower_genders','funded_amount'])\n",
    "\n",
    "# Setting the id as the index\n",
    "df = df.set_index('id')\n",
    "df.info()\n",
    "df.head()"
   ]
  },
  {
   "cell_type": "markdown",
   "id": "23c86ada",
   "metadata": {},
   "source": [
    "# Q1:  Do all-male teams get more funding vs teams that include at least 1 female?"
   ]
  },
  {
   "cell_type": "markdown",
   "id": "6cda1c2a",
   "metadata": {},
   "source": [
    "## 1. State the Hypothesis & Null Hypothesis "
   ]
  },
  {
   "cell_type": "markdown",
   "id": "99032d8e",
   "metadata": {},
   "source": [
    "- $H_0$ (Null Hypothesis): There is no difference in funding amount based on gender\n",
    "- $H_A$ (Alternative Hypothesis): There is a difference in funding amount based on gender   "
   ]
  },
  {
   "cell_type": "markdown",
   "id": "a06a0a19",
   "metadata": {},
   "source": [
    "## 2. Determine the correct test to perform.\n",
    "- Type of Data?\n",
    "    - Numeric\n",
    "- How many groups/samples?\n",
    "    - Two groups\\\n",
    "        - All males\n",
    "        - At least one female\n",
    "- Therefore, which test is appropriate?\n",
    "    - 2 Sample T-Test"
   ]
  },
  {
   "cell_type": "markdown",
   "id": "bc3ec916",
   "metadata": {},
   "source": [
    "### Visualize and separate data for hypothesis"
   ]
  },
  {
   "cell_type": "markdown",
   "id": "934fd107",
   "metadata": {},
   "source": [
    "- What column is our target?\n",
    "- What column determines our groups?"
   ]
  },
  {
   "cell_type": "code",
   "execution_count": 46,
   "id": "16afe96d",
   "metadata": {},
   "outputs": [],
   "source": [
    "## check the col that contains the measurement\n"
   ]
  },
  {
   "cell_type": "code",
   "execution_count": 47,
   "id": "5001f922",
   "metadata": {},
   "outputs": [
    {
     "data": {
      "text/plain": [
       "female                                                                                                                                                                                                                          426502\n",
       "male                                                                                                                                                                                                                            134710\n",
       "female, female                                                                                                                                                                                                                   12164\n",
       "female, female, female                                                                                                                                                                                                           11676\n",
       "female, female, female, female                                                                                                                                                                                                    9052\n",
       "                                                                                                                                                                                                                                 ...  \n",
       "male, female, female, female, male, female, female, female, male, female, female, male, female, female, female, female, female                                                                                                       1\n",
       "female, female, male, female, male, female, female, male, female, female, female, female, female, female, female, female, female, female                                                                                             1\n",
       "male, female, female, male, female, female, female, male, female, male, female, female, female                                                                                                                                       1\n",
       "female, female, female, female, female, female, female, female, female, female, female, male, female, female, female, female, female, female, female, female, female, female, female                                                 1\n",
       "female, female, female, male, female, female, female, male, female, female, female, male, female, male, female, female, female, female, female, female, female, female, female, female, female, female, female, female, male         1\n",
       "Name: borrower_genders, Length: 11298, dtype: int64"
      ]
     },
     "execution_count": 47,
     "metadata": {},
     "output_type": "execute_result"
    }
   ],
   "source": [
    "## check the col that contains info on gender\n",
    "df['borrower_genders'].value_counts()"
   ]
  },
  {
   "cell_type": "code",
   "execution_count": 48,
   "id": "44463923",
   "metadata": {},
   "outputs": [
    {
     "data": {
      "text/plain": [
       "True     528461\n",
       "False    138523\n",
       "Name: has_female, dtype: int64"
      ]
     },
     "execution_count": 48,
     "metadata": {},
     "output_type": "execute_result"
    }
   ],
   "source": [
    "## create a column that easily separates our groups\n",
    "df['has_female'] = df['borrower_genders'].str.contains('female')\n",
    "df['has_female'].value_counts()"
   ]
  },
  {
   "cell_type": "code",
   "execution_count": 49,
   "id": "8c8ee587",
   "metadata": {},
   "outputs": [
    {
     "data": {
      "text/html": [
       "<div>\n",
       "<style scoped>\n",
       "    .dataframe tbody tr th:only-of-type {\n",
       "        vertical-align: middle;\n",
       "    }\n",
       "\n",
       "    .dataframe tbody tr th {\n",
       "        vertical-align: top;\n",
       "    }\n",
       "\n",
       "    .dataframe thead th {\n",
       "        text-align: right;\n",
       "    }\n",
       "</style>\n",
       "<table border=\"1\" class=\"dataframe\">\n",
       "  <thead>\n",
       "    <tr style=\"text-align: right;\">\n",
       "      <th></th>\n",
       "      <th>funded_amount</th>\n",
       "      <th>has_female</th>\n",
       "    </tr>\n",
       "    <tr>\n",
       "      <th>id</th>\n",
       "      <th></th>\n",
       "      <th></th>\n",
       "    </tr>\n",
       "  </thead>\n",
       "  <tbody>\n",
       "    <tr>\n",
       "      <th>653051</th>\n",
       "      <td>300.0</td>\n",
       "      <td>True</td>\n",
       "    </tr>\n",
       "    <tr>\n",
       "      <th>653053</th>\n",
       "      <td>575.0</td>\n",
       "      <td>True</td>\n",
       "    </tr>\n",
       "    <tr>\n",
       "      <th>653068</th>\n",
       "      <td>150.0</td>\n",
       "      <td>True</td>\n",
       "    </tr>\n",
       "    <tr>\n",
       "      <th>653063</th>\n",
       "      <td>200.0</td>\n",
       "      <td>True</td>\n",
       "    </tr>\n",
       "    <tr>\n",
       "      <th>653084</th>\n",
       "      <td>400.0</td>\n",
       "      <td>True</td>\n",
       "    </tr>\n",
       "    <tr>\n",
       "      <th>...</th>\n",
       "      <td>...</td>\n",
       "      <td>...</td>\n",
       "    </tr>\n",
       "    <tr>\n",
       "      <th>1340318</th>\n",
       "      <td>0.0</td>\n",
       "      <td>True</td>\n",
       "    </tr>\n",
       "    <tr>\n",
       "      <th>1340323</th>\n",
       "      <td>0.0</td>\n",
       "      <td>True</td>\n",
       "    </tr>\n",
       "    <tr>\n",
       "      <th>1340316</th>\n",
       "      <td>25.0</td>\n",
       "      <td>True</td>\n",
       "    </tr>\n",
       "    <tr>\n",
       "      <th>1340338</th>\n",
       "      <td>0.0</td>\n",
       "      <td>True</td>\n",
       "    </tr>\n",
       "    <tr>\n",
       "      <th>1340339</th>\n",
       "      <td>0.0</td>\n",
       "      <td>True</td>\n",
       "    </tr>\n",
       "  </tbody>\n",
       "</table>\n",
       "<p>666984 rows × 2 columns</p>\n",
       "</div>"
      ],
      "text/plain": [
       "         funded_amount  has_female\n",
       "id                                \n",
       "653051           300.0        True\n",
       "653053           575.0        True\n",
       "653068           150.0        True\n",
       "653063           200.0        True\n",
       "653084           400.0        True\n",
       "...                ...         ...\n",
       "1340318            0.0        True\n",
       "1340323            0.0        True\n",
       "1340316           25.0        True\n",
       "1340338            0.0        True\n",
       "1340339            0.0        True\n",
       "\n",
       "[666984 rows x 2 columns]"
      ]
     },
     "execution_count": 49,
     "metadata": {},
     "output_type": "execute_result"
    }
   ],
   "source": [
    "## save list of columns needed for each group\n",
    "needed_cols = ['funded_amount','has_female']\n",
    "df[needed_cols]"
   ]
  },
  {
   "cell_type": "code",
   "execution_count": 50,
   "id": "12415b31",
   "metadata": {},
   "outputs": [
    {
     "data": {
      "text/html": [
       "<div>\n",
       "<style scoped>\n",
       "    .dataframe tbody tr th:only-of-type {\n",
       "        vertical-align: middle;\n",
       "    }\n",
       "\n",
       "    .dataframe tbody tr th {\n",
       "        vertical-align: top;\n",
       "    }\n",
       "\n",
       "    .dataframe thead th {\n",
       "        text-align: right;\n",
       "    }\n",
       "</style>\n",
       "<table border=\"1\" class=\"dataframe\">\n",
       "  <thead>\n",
       "    <tr style=\"text-align: right;\">\n",
       "      <th></th>\n",
       "      <th>funded_amount</th>\n",
       "      <th>has_female</th>\n",
       "    </tr>\n",
       "    <tr>\n",
       "      <th>id</th>\n",
       "      <th></th>\n",
       "      <th></th>\n",
       "    </tr>\n",
       "  </thead>\n",
       "  <tbody>\n",
       "    <tr>\n",
       "      <th>653418</th>\n",
       "      <td>450.0</td>\n",
       "      <td>False</td>\n",
       "    </tr>\n",
       "    <tr>\n",
       "      <th>653170</th>\n",
       "      <td>3175.0</td>\n",
       "      <td>False</td>\n",
       "    </tr>\n",
       "    <tr>\n",
       "      <th>653432</th>\n",
       "      <td>550.0</td>\n",
       "      <td>False</td>\n",
       "    </tr>\n",
       "    <tr>\n",
       "      <th>1080150</th>\n",
       "      <td>125.0</td>\n",
       "      <td>False</td>\n",
       "    </tr>\n",
       "    <tr>\n",
       "      <th>653410</th>\n",
       "      <td>1075.0</td>\n",
       "      <td>False</td>\n",
       "    </tr>\n",
       "    <tr>\n",
       "      <th>...</th>\n",
       "      <td>...</td>\n",
       "      <td>...</td>\n",
       "    </tr>\n",
       "    <tr>\n",
       "      <th>1339703</th>\n",
       "      <td>0.0</td>\n",
       "      <td>False</td>\n",
       "    </tr>\n",
       "    <tr>\n",
       "      <th>1339831</th>\n",
       "      <td>50.0</td>\n",
       "      <td>False</td>\n",
       "    </tr>\n",
       "    <tr>\n",
       "      <th>1339701</th>\n",
       "      <td>125.0</td>\n",
       "      <td>False</td>\n",
       "    </tr>\n",
       "    <tr>\n",
       "      <th>1339668</th>\n",
       "      <td>175.0</td>\n",
       "      <td>False</td>\n",
       "    </tr>\n",
       "    <tr>\n",
       "      <th>1339743</th>\n",
       "      <td>0.0</td>\n",
       "      <td>False</td>\n",
       "    </tr>\n",
       "  </tbody>\n",
       "</table>\n",
       "<p>138523 rows × 2 columns</p>\n",
       "</div>"
      ],
      "text/plain": [
       "         funded_amount  has_female\n",
       "id                                \n",
       "653418           450.0       False\n",
       "653170          3175.0       False\n",
       "653432           550.0       False\n",
       "1080150          125.0       False\n",
       "653410          1075.0       False\n",
       "...                ...         ...\n",
       "1339703            0.0       False\n",
       "1339831           50.0       False\n",
       "1339701          125.0       False\n",
       "1339668          175.0       False\n",
       "1339743            0.0       False\n",
       "\n",
       "[138523 rows x 2 columns]"
      ]
     },
     "execution_count": 50,
     "metadata": {},
     "output_type": "execute_result"
    }
   ],
   "source": [
    "## save male team in separate variable\n",
    "male_df = df.loc[df['has_female']==False, needed_cols]\n",
    "male_df"
   ]
  },
  {
   "cell_type": "code",
   "execution_count": 51,
   "id": "a114459b",
   "metadata": {},
   "outputs": [
    {
     "data": {
      "text/html": [
       "<div>\n",
       "<style scoped>\n",
       "    .dataframe tbody tr th:only-of-type {\n",
       "        vertical-align: middle;\n",
       "    }\n",
       "\n",
       "    .dataframe tbody tr th {\n",
       "        vertical-align: top;\n",
       "    }\n",
       "\n",
       "    .dataframe thead th {\n",
       "        text-align: right;\n",
       "    }\n",
       "</style>\n",
       "<table border=\"1\" class=\"dataframe\">\n",
       "  <thead>\n",
       "    <tr style=\"text-align: right;\">\n",
       "      <th></th>\n",
       "      <th>funded_amount</th>\n",
       "      <th>has_female</th>\n",
       "    </tr>\n",
       "    <tr>\n",
       "      <th>id</th>\n",
       "      <th></th>\n",
       "      <th></th>\n",
       "    </tr>\n",
       "  </thead>\n",
       "  <tbody>\n",
       "    <tr>\n",
       "      <th>653051</th>\n",
       "      <td>300.0</td>\n",
       "      <td>True</td>\n",
       "    </tr>\n",
       "    <tr>\n",
       "      <th>653053</th>\n",
       "      <td>575.0</td>\n",
       "      <td>True</td>\n",
       "    </tr>\n",
       "    <tr>\n",
       "      <th>653068</th>\n",
       "      <td>150.0</td>\n",
       "      <td>True</td>\n",
       "    </tr>\n",
       "    <tr>\n",
       "      <th>653063</th>\n",
       "      <td>200.0</td>\n",
       "      <td>True</td>\n",
       "    </tr>\n",
       "    <tr>\n",
       "      <th>653084</th>\n",
       "      <td>400.0</td>\n",
       "      <td>True</td>\n",
       "    </tr>\n",
       "    <tr>\n",
       "      <th>...</th>\n",
       "      <td>...</td>\n",
       "      <td>...</td>\n",
       "    </tr>\n",
       "    <tr>\n",
       "      <th>1340318</th>\n",
       "      <td>0.0</td>\n",
       "      <td>True</td>\n",
       "    </tr>\n",
       "    <tr>\n",
       "      <th>1340323</th>\n",
       "      <td>0.0</td>\n",
       "      <td>True</td>\n",
       "    </tr>\n",
       "    <tr>\n",
       "      <th>1340316</th>\n",
       "      <td>25.0</td>\n",
       "      <td>True</td>\n",
       "    </tr>\n",
       "    <tr>\n",
       "      <th>1340338</th>\n",
       "      <td>0.0</td>\n",
       "      <td>True</td>\n",
       "    </tr>\n",
       "    <tr>\n",
       "      <th>1340339</th>\n",
       "      <td>0.0</td>\n",
       "      <td>True</td>\n",
       "    </tr>\n",
       "  </tbody>\n",
       "</table>\n",
       "<p>528461 rows × 2 columns</p>\n",
       "</div>"
      ],
      "text/plain": [
       "         funded_amount  has_female\n",
       "id                                \n",
       "653051           300.0        True\n",
       "653053           575.0        True\n",
       "653068           150.0        True\n",
       "653063           200.0        True\n",
       "653084           400.0        True\n",
       "...                ...         ...\n",
       "1340318            0.0        True\n",
       "1340323            0.0        True\n",
       "1340316           25.0        True\n",
       "1340338            0.0        True\n",
       "1340339            0.0        True\n",
       "\n",
       "[528461 rows x 2 columns]"
      ]
     },
     "execution_count": 51,
     "metadata": {},
     "output_type": "execute_result"
    }
   ],
   "source": [
    "## save female team in separate variables\n",
    "female_df = male_df = df.loc[df['has_female']==True, needed_cols]\n",
    "female_df"
   ]
  },
  {
   "cell_type": "code",
   "execution_count": 52,
   "id": "cd5e3c6f",
   "metadata": {},
   "outputs": [
    {
     "data": {
      "text/html": [
       "<div>\n",
       "<style scoped>\n",
       "    .dataframe tbody tr th:only-of-type {\n",
       "        vertical-align: middle;\n",
       "    }\n",
       "\n",
       "    .dataframe tbody tr th {\n",
       "        vertical-align: top;\n",
       "    }\n",
       "\n",
       "    .dataframe thead th {\n",
       "        text-align: right;\n",
       "    }\n",
       "</style>\n",
       "<table border=\"1\" class=\"dataframe\">\n",
       "  <thead>\n",
       "    <tr style=\"text-align: right;\">\n",
       "      <th></th>\n",
       "      <th>funded_amount</th>\n",
       "      <th>has_female</th>\n",
       "    </tr>\n",
       "    <tr>\n",
       "      <th>id</th>\n",
       "      <th></th>\n",
       "      <th></th>\n",
       "    </tr>\n",
       "  </thead>\n",
       "  <tbody>\n",
       "    <tr>\n",
       "      <th>653051</th>\n",
       "      <td>300.0</td>\n",
       "      <td>True</td>\n",
       "    </tr>\n",
       "    <tr>\n",
       "      <th>653053</th>\n",
       "      <td>575.0</td>\n",
       "      <td>True</td>\n",
       "    </tr>\n",
       "    <tr>\n",
       "      <th>653068</th>\n",
       "      <td>150.0</td>\n",
       "      <td>True</td>\n",
       "    </tr>\n",
       "    <tr>\n",
       "      <th>653063</th>\n",
       "      <td>200.0</td>\n",
       "      <td>True</td>\n",
       "    </tr>\n",
       "    <tr>\n",
       "      <th>653084</th>\n",
       "      <td>400.0</td>\n",
       "      <td>True</td>\n",
       "    </tr>\n",
       "    <tr>\n",
       "      <th>...</th>\n",
       "      <td>...</td>\n",
       "      <td>...</td>\n",
       "    </tr>\n",
       "    <tr>\n",
       "      <th>1340318</th>\n",
       "      <td>0.0</td>\n",
       "      <td>True</td>\n",
       "    </tr>\n",
       "    <tr>\n",
       "      <th>1340323</th>\n",
       "      <td>0.0</td>\n",
       "      <td>True</td>\n",
       "    </tr>\n",
       "    <tr>\n",
       "      <th>1340316</th>\n",
       "      <td>25.0</td>\n",
       "      <td>True</td>\n",
       "    </tr>\n",
       "    <tr>\n",
       "      <th>1340338</th>\n",
       "      <td>0.0</td>\n",
       "      <td>True</td>\n",
       "    </tr>\n",
       "    <tr>\n",
       "      <th>1340339</th>\n",
       "      <td>0.0</td>\n",
       "      <td>True</td>\n",
       "    </tr>\n",
       "  </tbody>\n",
       "</table>\n",
       "<p>1056922 rows × 2 columns</p>\n",
       "</div>"
      ],
      "text/plain": [
       "         funded_amount  has_female\n",
       "id                                \n",
       "653051           300.0        True\n",
       "653053           575.0        True\n",
       "653068           150.0        True\n",
       "653063           200.0        True\n",
       "653084           400.0        True\n",
       "...                ...         ...\n",
       "1340318            0.0        True\n",
       "1340323            0.0        True\n",
       "1340316           25.0        True\n",
       "1340338            0.0        True\n",
       "1340339            0.0        True\n",
       "\n",
       "[1056922 rows x 2 columns]"
      ]
     },
     "execution_count": 52,
     "metadata": {},
     "output_type": "execute_result"
    }
   ],
   "source": [
    "## Make a df just for visualization by concat the groups \n",
    "plot_df = pd.concat([male_df,female_df]) \n",
    "plot_df"
   ]
  },
  {
   "cell_type": "code",
   "execution_count": 53,
   "id": "e2166acd",
   "metadata": {},
   "outputs": [
    {
     "data": {
      "image/png": "[encoded data removed]",
      "text/plain": [
       "<Figure size 432x288 with 1 Axes>"
      ]
     },
     "metadata": {
      "needs_background": "light"
     },
     "output_type": "display_data"
    }
   ],
   "source": [
    "## visualize the group means\n",
    "sns.barplot(data=df, x='has_female', y='funded_amount');"
   ]
  },
  {
   "cell_type": "markdown",
   "id": "9941c848",
   "metadata": {},
   "source": [
    "## 3. Testing Assumptions"
   ]
  },
  {
   "cell_type": "markdown",
   "id": "3a38e3a8",
   "metadata": {},
   "source": [
    "- No significant outliers\n",
    "- Normality\n",
    "- Equal Variance"
   ]
  },
  {
   "cell_type": "markdown",
   "id": "40af28da",
   "metadata": {},
   "source": [
    "### Checking Assumption of No Sig. Outliers"
   ]
  },
  {
   "cell_type": "code",
   "execution_count": 54,
   "id": "9a90f384",
   "metadata": {
    "scrolled": true
   },
   "outputs": [
    {
     "data": {
      "text/plain": [
       "id\n",
       "653051     300.0\n",
       "653053     575.0\n",
       "653068     150.0\n",
       "653063     200.0\n",
       "653084     400.0\n",
       "           ...  \n",
       "1340318      0.0\n",
       "1340323      0.0\n",
       "1340316     25.0\n",
       "1340338      0.0\n",
       "1340339      0.0\n",
       "Name: funded_amount, Length: 528461, dtype: float64"
      ]
     },
     "execution_count": 54,
     "metadata": {},
     "output_type": "execute_result"
    }
   ],
   "source": [
    "## Saving JUST the numeric col as final group variables\n",
    "male_group = male_df['funded_amount']\n",
    "female_group = female_df['funded_amount']\n",
    "female_group"
   ]
  },
  {
   "cell_type": "code",
   "execution_count": 55,
   "id": "d10ea51e",
   "metadata": {},
   "outputs": [
    {
     "data": {
      "text/plain": [
       "13344"
      ]
     },
     "execution_count": 55,
     "metadata": {},
     "output_type": "execute_result"
    }
   ],
   "source": [
    "## Check female group for outliers\n",
    "female_outliers = np.abs(stats.zscore(female_group))>3\n",
    "\n",
    "## how many outliers?\n",
    "female_outliers.sum()"
   ]
  },
  {
   "cell_type": "code",
   "execution_count": 56,
   "id": "1aef7c00",
   "metadata": {},
   "outputs": [],
   "source": [
    "## remove outliers from female_group\n",
    "female_group = female_group[~female_outliers]"
   ]
  },
  {
   "cell_type": "code",
   "execution_count": 57,
   "id": "45506df5",
   "metadata": {},
   "outputs": [
    {
     "data": {
      "text/plain": [
       "13344"
      ]
     },
     "execution_count": 57,
     "metadata": {},
     "output_type": "execute_result"
    }
   ],
   "source": [
    "## Check male group for outliers\n",
    "male_outliers = np.abs(stats.zscore(male_group))>3\n",
    "\n",
    "\n",
    "## how many outliers?\n",
    "male_outliers.sum()"
   ]
  },
  {
   "cell_type": "code",
   "execution_count": 58,
   "id": "00de8a09",
   "metadata": {},
   "outputs": [],
   "source": [
    "## remove outliers from male_group\n",
    "male_group = male_group[~male_outliers]"
   ]
  },
  {
   "cell_type": "markdown",
   "id": "2f80bec1",
   "metadata": {},
   "source": [
    "### Test for Normality"
   ]
  },
  {
   "cell_type": "code",
   "execution_count": 59,
   "id": "7dbac26c",
   "metadata": {},
   "outputs": [
    {
     "data": {
      "text/plain": [
       "NormaltestResult(statistic=254918.2167882442, pvalue=0.0)"
      ]
     },
     "execution_count": 59,
     "metadata": {},
     "output_type": "execute_result"
    }
   ],
   "source": [
    "## Check female group for normality\n",
    "result = stats.normaltest(female_group)\n",
    "result"
   ]
  },
  {
   "cell_type": "code",
   "execution_count": 60,
   "id": "88e8fb3c",
   "metadata": {},
   "outputs": [
    {
     "data": {
      "text/plain": [
       "515117"
      ]
     },
     "execution_count": 60,
     "metadata": {},
     "output_type": "execute_result"
    }
   ],
   "source": [
    "## Check n for female group\n",
    "len(female_group)"
   ]
  },
  {
   "cell_type": "code",
   "execution_count": 61,
   "id": "4cb1c02d",
   "metadata": {
    "scrolled": true
   },
   "outputs": [
    {
     "data": {
      "text/plain": [
       "NormaltestResult(statistic=254918.2167882442, pvalue=0.0)"
      ]
     },
     "execution_count": 61,
     "metadata": {},
     "output_type": "execute_result"
    }
   ],
   "source": [
    "## Check male group for normality\n",
    "result = stats.normaltest(male_group)\n",
    "result"
   ]
  },
  {
   "cell_type": "code",
   "execution_count": 62,
   "id": "8051e5a8",
   "metadata": {},
   "outputs": [
    {
     "data": {
      "text/plain": [
       "515117"
      ]
     },
     "execution_count": 62,
     "metadata": {},
     "output_type": "execute_result"
    }
   ],
   "source": [
    "## Check n for male group\n",
    "len(male_group)"
   ]
  },
  {
   "cell_type": "markdown",
   "id": "3c5fa24f",
   "metadata": {},
   "source": [
    "- Did we meet the assumption?"
   ]
  },
  {
   "cell_type": "markdown",
   "id": "f41351ba",
   "metadata": {},
   "source": [
    "### Test for Equal Variances"
   ]
  },
  {
   "cell_type": "code",
   "execution_count": 63,
   "id": "559ed7c3",
   "metadata": {},
   "outputs": [
    {
     "data": {
      "text/plain": [
       "True"
      ]
     },
     "execution_count": 63,
     "metadata": {},
     "output_type": "execute_result"
    }
   ],
   "source": [
    "## Use Levene's test for equal variance\n",
    "result = stats.levene(female_group, male_group)\n",
    "result.pvalue<5"
   ]
  },
  {
   "cell_type": "code",
   "execution_count": 64,
   "id": "7211dffc",
   "metadata": {
    "scrolled": true
   },
   "outputs": [
    {
     "name": "stdout",
     "output_type": "stream",
     "text": [
      "The grous DO have equal variance\n"
     ]
    }
   ],
   "source": [
    "## Use an if-else to help interpret the p-value\n",
    "if result.pvalue < .05:\n",
    "    print('The groups DO NOT have equal variance')\n",
    "else:\n",
    "    print('The grous DO have equal variance')"
   ]
  },
  {
   "cell_type": "markdown",
   "id": "54acf417",
   "metadata": {},
   "source": [
    "- Did we meet the assumptions?"
   ]
  },
  {
   "cell_type": "markdown",
   "id": "42d92738",
   "metadata": {},
   "source": [
    "## Final Hypothesis Test"
   ]
  },
  {
   "cell_type": "markdown",
   "id": "39981a0e",
   "metadata": {},
   "source": [
    "- Did we meet our test's assumptions? \n",
    "    - If not, what is the alternative test?"
   ]
  },
  {
   "cell_type": "code",
   "execution_count": 65,
   "id": "bf0d8280",
   "metadata": {},
   "outputs": [],
   "source": [
    "## run final hypothess test\n"
   ]
  },
  {
   "cell_type": "code",
   "execution_count": 66,
   "id": "1902d296",
   "metadata": {},
   "outputs": [],
   "source": [
    "## make a plot or calcualte group means to know which group had more/less.\n"
   ]
  },
  {
   "cell_type": "markdown",
   "id": "41d13f96",
   "metadata": {},
   "source": [
    "- Final Conclusion:\n",
    "    - ..."
   ]
  },
  {
   "cell_type": "markdown",
   "id": "dc5432e3",
   "metadata": {},
   "source": [
    "# Q2: Do different sectors get more/less funding?"
   ]
  },
  {
   "cell_type": "markdown",
   "id": "7a345561",
   "metadata": {},
   "source": [
    "## 1. State the Hypothesis & Null Hypothesis "
   ]
  },
  {
   "cell_type": "markdown",
   "id": "0c9a6ead",
   "metadata": {},
   "source": [
    "- $H_0$ (Null Hypothesis): \n",
    "- $H_A$ (Alternative Hypothesis):  "
   ]
  },
  {
   "cell_type": "markdown",
   "id": "5f28bc93",
   "metadata": {},
   "source": [
    "## 2. Determine the correct test to perform."
   ]
  },
  {
   "cell_type": "markdown",
   "id": "c4159c7d",
   "metadata": {},
   "source": [
    "- Type of Data?\n",
    "- How many groups/samples?\n",
    "- Therefore, which test is appropriate?"
   ]
  },
  {
   "cell_type": "code",
   "execution_count": 67,
   "id": "05c1e58c",
   "metadata": {},
   "outputs": [],
   "source": [
    "## how many sectors?\n"
   ]
  },
  {
   "cell_type": "markdown",
   "id": "fe9c8684",
   "metadata": {},
   "source": [
    "### Visualize and separate data for hypothesis"
   ]
  },
  {
   "cell_type": "markdown",
   "id": "e89aeb74",
   "metadata": {},
   "source": [
    "- What column is our target?\n",
    "- What column determines our groups?"
   ]
  },
  {
   "cell_type": "code",
   "execution_count": 68,
   "id": "f0859820",
   "metadata": {},
   "outputs": [],
   "source": [
    "## barplot\n"
   ]
  },
  {
   "cell_type": "code",
   "execution_count": 69,
   "id": "b76d26f0",
   "metadata": {},
   "outputs": [],
   "source": [
    "## Create a dictionary with each group as key and funded_amount as values\n"
   ]
  },
  {
   "cell_type": "code",
   "execution_count": 70,
   "id": "29b81d40",
   "metadata": {},
   "outputs": [],
   "source": [
    "## check one of the sectors in the dict\n"
   ]
  },
  {
   "cell_type": "markdown",
   "id": "31139f54",
   "metadata": {},
   "source": [
    "## 3. Testing Assumptions"
   ]
  },
  {
   "cell_type": "markdown",
   "id": "34626476",
   "metadata": {},
   "source": [
    "- No significant outliers\n",
    "- Normality\n",
    "- Equal Variance"
   ]
  },
  {
   "cell_type": "markdown",
   "id": "c1b834a8",
   "metadata": {},
   "source": [
    "### Checking Assumption of No Sig. Outliers"
   ]
  },
  {
   "cell_type": "code",
   "execution_count": 71,
   "id": "a32ad813",
   "metadata": {},
   "outputs": [],
   "source": [
    "## Loop through groups dict\n",
    "\n",
    "    ## determine if there are any outliers\n",
    "    \n",
    "    ## print a statement about how many outliers for which group name\n",
    "\n",
    "    ## Remove the outiers from data and overwrite the sector data in the dict\n"
   ]
  },
  {
   "cell_type": "markdown",
   "id": "13e13bdd",
   "metadata": {},
   "source": [
    "### Test for Normality"
   ]
  },
  {
   "cell_type": "code",
   "execution_count": 72,
   "id": "a0414c2c",
   "metadata": {},
   "outputs": [],
   "source": [
    "## Running normal test on each group and confirming there are >20 in each group\n",
    "\n",
    "## Save a list with an inner list of column names\n",
    "norm_results = [['group','n','pval','sig?']]\n",
    "\n",
    "\n",
    "## loop through group dict\n",
    "\n",
    "    ## calculate normaltest results\n",
    "    \n",
    "    \n",
    "    ## Append the right info into norm_resutls (as a list)\n",
    "    \n",
    "    \n",
    "    \n",
    "## Make norm_results a dataframe (first row is columns, everything else data)\n"
   ]
  },
  {
   "cell_type": "markdown",
   "id": "c9babaef",
   "metadata": {},
   "source": [
    "- Did we meet the assumption?"
   ]
  },
  {
   "cell_type": "markdown",
   "id": "f243a55e",
   "metadata": {},
   "source": [
    "### Test for Equal Variances"
   ]
  },
  {
   "cell_type": "code",
   "execution_count": 73,
   "id": "47d696a2",
   "metadata": {},
   "outputs": [
    {
     "data": {
      "text/plain": [
       "['a', 'b', 'c', 1, 2, 3]"
      ]
     },
     "execution_count": 73,
     "metadata": {},
     "output_type": "execute_result"
    }
   ],
   "source": [
    "## DEMO: using the * operator to unpack lists\n",
    "a_list = ['a','b','c']\n",
    "b_list = [1,2,3]\n",
    "new_list= [*a_list, *b_list]\n",
    "new_list"
   ]
  },
  {
   "cell_type": "code",
   "execution_count": 74,
   "id": "4aa7d6a1",
   "metadata": {},
   "outputs": [],
   "source": [
    "## Use Levene's test for equal variance\n"
   ]
  },
  {
   "cell_type": "code",
   "execution_count": 75,
   "id": "cf11dad4",
   "metadata": {
    "scrolled": true
   },
   "outputs": [],
   "source": [
    "## Use an if-else to help interpret the p-value\n"
   ]
  },
  {
   "cell_type": "markdown",
   "id": "325cde49",
   "metadata": {},
   "source": [
    "- Did we meet the assumption?\n"
   ]
  },
  {
   "cell_type": "markdown",
   "id": "be52dca4",
   "metadata": {},
   "source": [
    "## Final Hypothesis Test"
   ]
  },
  {
   "cell_type": "markdown",
   "id": "b0e81240",
   "metadata": {},
   "source": [
    "- Did we meet our test's assumptions? \n",
    "    - If not, what is the alternative test?"
   ]
  },
  {
   "cell_type": "code",
   "execution_count": 76,
   "id": "5ecec705",
   "metadata": {},
   "outputs": [],
   "source": [
    "## Run final test and get p-value\n"
   ]
  },
  {
   "cell_type": "markdown",
   "id": "e65818dc",
   "metadata": {},
   "source": [
    "- Interpret Results. Did we have a significant result?\n",
    "- Is a post-hoc test needed?"
   ]
  },
  {
   "cell_type": "markdown",
   "id": "2a8f8677",
   "metadata": {},
   "source": [
    "### Post-Hoc Multiple Comparison Test"
   ]
  },
  {
   "cell_type": "code",
   "execution_count": 77,
   "id": "7a77b743",
   "metadata": {},
   "outputs": [],
   "source": [
    "## Post Hoc\n",
    "from statsmodels.stats.multicomp import pairwise_tukeyhsd"
   ]
  },
  {
   "cell_type": "markdown",
   "id": "4695814b",
   "metadata": {},
   "source": [
    "- Tukey's test requires a list of group names and a list of measured values. \n",
    "- Easiest way to produce and visualize this is to make our groups dict into a dataframe "
   ]
  },
  {
   "cell_type": "markdown",
   "id": "9960ab87",
   "metadata": {},
   "source": [
    "#### Testing Converting our Dictionary to a DataFrame"
   ]
  },
  {
   "cell_type": "code",
   "execution_count": 78,
   "id": "289baa32",
   "metadata": {
    "scrolled": true
   },
   "outputs": [],
   "source": [
    "## slice a test sector\n",
    "temp = None\n"
   ]
  },
  {
   "cell_type": "code",
   "execution_count": 79,
   "id": "ba09d1cd",
   "metadata": {
    "scrolled": true
   },
   "outputs": [],
   "source": [
    "## test making a dataframe from the test sector and filling in the sector name\n"
   ]
  },
  {
   "cell_type": "markdown",
   "id": "f86e79c8",
   "metadata": {},
   "source": [
    "#### Preparing the new dataframe for Tukey's test in a looop"
   ]
  },
  {
   "cell_type": "code",
   "execution_count": 80,
   "id": "427cfe9b",
   "metadata": {
    "scrolled": true
   },
   "outputs": [],
   "source": [
    "## make a list for saving the dataframes to\n",
    "\n",
    "\n",
    "## Loop through groups dict's items\n",
    "\n",
    "\n",
    "    ## make a temp_df with the data and the sector name\n",
    "    \n",
    "    ## append to tukeys_dfs\n",
    "    \n",
    "## concatenate them into 1 dataframe    \n"
   ]
  },
  {
   "cell_type": "code",
   "execution_count": 81,
   "id": "23d4e18d",
   "metadata": {
    "scrolled": false
   },
   "outputs": [],
   "source": [
    "## save the values as kg_lost and the labels to the Diet\n",
    "values = None\n",
    "labels = None\n",
    "\n",
    "## perform tukey's multiple comparison test and display the summary\n",
    "tukeys_results = None\n"
   ]
  },
  {
   "cell_type": "code",
   "execution_count": 82,
   "id": "2dbb021c",
   "metadata": {},
   "outputs": [],
   "source": [
    "## optional -slicing out dataframe from results"
   ]
  },
  {
   "cell_type": "code",
   "execution_count": 83,
   "id": "4f9e5cff",
   "metadata": {
    "scrolled": true
   },
   "outputs": [],
   "source": [
    "## make a barplot of final data to go with results\n"
   ]
  },
  {
   "cell_type": "code",
   "execution_count": 84,
   "id": "a79d75fe",
   "metadata": {
    "scrolled": false
   },
   "outputs": [],
   "source": [
    "## also can use built-in plot tukeys_reuslts.plot_simultaneous\n"
   ]
  },
  {
   "cell_type": "markdown",
   "id": "e69374b6",
   "metadata": {},
   "source": [
    "- Final summary of group differences"
   ]
  }
 ],
 "metadata": {
  "kernelspec": {
   "display_name": "Python (dojo-env)",
   "language": "python",
   "name": "dojo-env"
  },
  "language_info": {
   "codemirror_mode": {
    "name": "ipython",
    "version": 3
   },
   "file_extension": ".py",
   "mimetype": "text/x-python",
   "name": "python",
   "nbconvert_exporter": "python",
   "pygments_lexer": "ipython3",
   "version": "3.7.12"
  },
  "toc": {
   "base_numbering": 1,
   "nav_menu": {},
   "number_sections": false,
   "sideBar": true,
   "skip_h1_title": false,
   "title_cell": "Table of Contents",
   "title_sidebar": "Contents",
   "toc_cell": false,
   "toc_position": {
    "height": "calc(100% - 180px)",
    "left": "10px",
    "top": "150px",
    "width": "299.188px"
   },
   "toc_section_display": true,
   "toc_window_display": true
  }
 },
 "nbformat": 4,
 "nbformat_minor": 5
}
